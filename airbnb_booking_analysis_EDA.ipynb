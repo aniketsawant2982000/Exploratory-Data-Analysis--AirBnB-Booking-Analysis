{
  "nbformat": 4,
  "nbformat_minor": 0,
  "metadata": {
    "colab": {
      "private_outputs": true,
      "provenance": [],
      "collapsed_sections": [
        "vncDsAP0Gaoa",
        "FJNUwmbgGyua",
        "w6K7xa23Elo4",
        "yQaldy8SH6Dl",
        "PH-0ReGfmX4f",
        "mDgbUHAGgjLW",
        "O_i_v8NEhb9l",
        "HhfV-JJviCcP",
        "Y3lxredqlCYt",
        "3RnN4peoiCZX",
        "x71ZqKXriCWQ",
        "7hBIi_osiCS2",
        "JlHwYmJAmNHm",
        "35m5QtbWiB9F",
        "PoPl-ycgm1ru",
        "H0kj-8xxnORC",
        "nA9Y7ga8ng1Z",
        "PBTbrJXOngz2",
        "u3PMJOP6ngxN",
        "dauF4eBmngu3",
        "bKJF3rekwFvQ",
        "MSa1f5Uengrz",
        "GF8Ens_Soomf",
        "0wOQAZs5pc--",
        "K5QZ13OEpz2H",
        "lQ7QKXXCp7Bj",
        "448CDAPjqfQr",
        "KSlN3yHqYklG",
        "t6dVpIINYklI",
        "ijmpgYnKYklI",
        "-JiQyfWJYklI",
        "EM7whBJCYoAo",
        "fge-S5ZAYoAp",
        "85gYPyotYoAp",
        "RoGjAbkUYoAp",
        "4Of9eVA-YrdM",
        "iky9q4vBYrdO",
        "F6T5p64dYrdO",
        "y-Ehk30pYrdP",
        "bamQiAODYuh1",
        "QHF8YVU7Yuh3",
        "GwzvFGzlYuh3",
        "qYpmQ266Yuh3",
        "OH-pJp9IphqM",
        "bbFf2-_FphqN",
        "_ouA3fa0phqN",
        "Seke61FWphqN",
        "PIIx-8_IphqN",
        "t27r6nlMphqO",
        "r2jJGEOYphqO",
        "b0JNsNcRphqO",
        "BZR9WyysphqO",
        "jj7wYXLtphqO",
        "eZrbJ2SmphqO",
        "rFu4xreNphqO",
        "YJ55k-q6phqO",
        "gCFgpxoyphqP",
        "OVtJsKN_phqQ",
        "lssrdh5qphqQ",
        "U2RJ9gkRphqQ",
        "1M8mcRywphqQ",
        "tgIPom80phqQ",
        "JMzcOPDDphqR",
        "x-EpHcCOp1ci",
        "X_VqEhTip1ck",
        "8zGJKyg5p1ck",
        "PVzmfK_Ep1ck",
        "n3dbpmDWp1ck",
        "ylSl6qgtp1ck",
        "ZWILFDl5p1ck",
        "M7G43BXep1ck",
        "Ag9LCva-p1cl",
        "E6MkPsBcp1cl",
        "2cELzS2fp1cl",
        "3MPXvC8up1cl",
        "NC_X3p0fY2L0",
        "UV0SzAkaZNRQ",
        "YPEH6qLeZNRQ",
        "q29F0dvdveiT",
        "EXh0U9oCveiU",
        "22aHeOlLveiV",
        "JcMwzZxoAimU",
        "8G2x9gOozGDZ",
        "gCX9965dhzqZ",
        "gIfDvo9L0UH2"
      ]
    },
    "kernelspec": {
      "name": "python3",
      "display_name": "Python 3"
    },
    "language_info": {
      "name": "python"
    }
  },
  "cells": [
    {
      "cell_type": "markdown",
      "source": [
        "# **Project Name**    -\n",
        "\n"
      ],
      "metadata": {
        "id": "vncDsAP0Gaoa"
      }
    },
    {
      "cell_type": "markdown",
      "source": [
        "##### **Project Type**    - EDA\n",
        "##### **Contribution**    - Individual\n"
      ],
      "metadata": {
        "id": "beRrZCGUAJYm"
      }
    },
    {
      "cell_type": "markdown",
      "source": [
        "# **Project Summary -**"
      ],
      "metadata": {
        "id": "FJNUwmbgGyua"
      }
    },
    {
      "cell_type": "markdown",
      "source": [
        "### **Project Summary: Airbnb Booking Analysis – Exploratory Data Analysis**\n",
        "\n",
        "The rapid growth of Airbnb as a global platform for short-term lodging has revolutionized the travel and hospitality industry. Understanding customer behavior, host preferences, seasonal trends, and geographical patterns is crucial for both Airbnb and its users—guests and hosts alike. This project, titled **\"Airbnb Booking Analysis – Exploratory Data Analysis (EDA)\"**, aims to uncover valuable insights from Airbnb’s booking data to help stakeholders make informed decisions.\n",
        "\n",
        "#### **Objective**\n",
        "\n",
        "The primary goal of this project is to perform an in-depth exploratory data analysis on Airbnb datasets to identify meaningful patterns, trends, and correlations in booking behavior. This involves understanding the dynamics of pricing, availability, popular destinations, guest preferences, and factors influencing listing popularity and occupancy rates. The insights derived can benefit multiple stakeholders: Airbnb can enhance its service offerings, hosts can optimize pricing and listings, and travelers can plan better stays.\n",
        "\n",
        "#### **Methodology**\n",
        "\n",
        "The analysis was conducted using Python, leveraging libraries such as **Pandas** for data manipulation, **Matplotlib** and **Seaborn** for data visualization, and **NumPy** for numerical operations. The approach followed these key steps:\n",
        "\n",
        "1. **Data Cleaning and Preprocessing:**\n",
        "   The initial phase focused on handling missing values, removing duplicates, parsing date columns, and converting data types. Columns with excessive missing or irrelevant data were dropped or imputed based on context.\n",
        "\n",
        "2. **Univariate and Bivariate Analysis:**\n",
        "   Distributions of individual features (like price, number of reviews, and availability) were analyzed. Relationships between features, such as price vs. number of reviews or availability vs. room type, were visualized using scatter plots, heatmaps, and boxplots.\n",
        "\n",
        "3. **Geospatial Analysis:**\n",
        "   Latitude and longitude data enabled mapping listings on a city-level basis using geospatial libraries like Folium or Plotly. This helped identify hotspots, tourism-friendly areas, and price zones across cities.\n",
        "\n",
        "4. **Temporal Patterns:**\n",
        "   Time-based features were analyzed to detect seasonal trends in bookings and pricing. This included availability trends, booking patterns across months, and variation in demand during holidays or peak seasons.\n",
        "\n",
        "5. **Sentiment and Review Analysis (Optional Extension):**\n",
        "   If review text data was included, Natural Language Processing (NLP) techniques were used to analyze guest sentiments and common keywords, offering insights into guest satisfaction.\n",
        "\n",
        "#### **Key Insights**\n",
        "\n",
        "* **Price Distribution:** The price per night follows a right-skewed distribution, with most listings priced below a certain threshold, but a few high-end properties significantly inflating the average.\n",
        "* **Room Type Popularity:** Entire homes/apartments are the most listed and booked, followed by private rooms. Shared rooms are the least preferred.\n",
        "* **Location-Based Trends:** Certain neighborhoods consistently show higher average prices and higher review counts, indicating popularity and higher demand.\n",
        "* **Review Influence:** Listings with more positive reviews and higher ratings are often more frequently booked, showing a direct link between customer feedback and listing success.\n",
        "* **Seasonal Demand:** Booking frequency and prices spike during holiday seasons and popular travel months, suggesting seasonality is a strong factor in listing dynamics.\n"
      ],
      "metadata": {
        "id": "F6v_1wHtG2nS"
      }
    },
    {
      "cell_type": "markdown",
      "source": [
        "# **GitHub Link -**"
      ],
      "metadata": {
        "id": "w6K7xa23Elo4"
      }
    },
    {
      "cell_type": "markdown",
      "source": [
        "Provide your GitHub Link here."
      ],
      "metadata": {
        "id": "h1o69JH3Eqqn"
      }
    },
    {
      "cell_type": "markdown",
      "source": [
        "# **Problem Statement**\n"
      ],
      "metadata": {
        "id": "yQaldy8SH6Dl"
      }
    },
    {
      "cell_type": "markdown",
      "source": [
        "The aim of this project is to perform data wrangling, cleaning, and exploratory data analysis (EDA) on a dataset containing hotel bookings information. The dataset consists of various attributes such as booking details, guest information, and stay characteristics. The goal is to gain valuable insights into booking patterns, customer behavior, and factors influencing booking cancellations. This project will involve the following tasks:\n",
        "\n",
        "1. **Data Wrangling and Cleaning:**\n",
        " * Handle missing values, outliers, and inconsistencies in the dataset.\n",
        " * Standardize data formats and correct any data entry errors.\n",
        " * Perform feature engineering to derive new features if necessary.\n",
        "\n",
        "2. **Exploratory Data Analysis (EDA):**\n",
        " * Explore the distribution of key variables such as booking lead time, stay duration, and average daily rate.\n",
        " * Analyze the relationship between booking cancellations and various factors such as lead time, market segment, and previous cancellations.\n",
        " * Investigate seasonal patterns in hotel bookings and cancellations.\n",
        " * Identify trends and patterns in customer preferences, such as meal type, room type, and special requests.\n",
        "\n",
        "3. **Visualization:**\n",
        " * Create visualizations (e.g., histograms, box plots, heatmaps) to illustrate the distribution and relationships of different variables.\n",
        " * Generate insights from visualizations to better understand the dataset and highlight key findings.\n",
        " * Visualize trends over time (e.g., monthly booking trends, changes in cancellation rates) using line plots or time series analysis.\n",
        "\n",
        "4. **Insights and Recommendations:**\n",
        " * Summarize key insights obtained from the data analysis.\n",
        " * Provide recommendations for hotel management based on the findings, such as optimizing booking strategies, improving customer satisfaction, and reducing cancellation rates.\n",
        "\n",
        "By completing these tasks, this project aims to provide actionable insights for hotel management to optimize their operations and enhance the overall guest experience."
      ],
      "metadata": {
        "id": "DpeJGUA3kjGy"
      }
    },
    {
      "cell_type": "markdown",
      "source": [
        "#### **Define Your Business Objective?**"
      ],
      "metadata": {
        "id": "PH-0ReGfmX4f"
      }
    },
    {
      "cell_type": "markdown",
      "source": [
        "Business Objective:\n",
        "\n",
        "The primary objective of this project is to leverage data analysis techniques to optimize the operations and improve the overall performance of the hotel business. By analyzing the hotel bookings dataset, the following specific goals are targeted:\n",
        "\n",
        "**Enhance Booking Efficiency:** Identify factors influencing booking patterns and optimize booking strategies to maximize occupancy rates and revenue generation.\n",
        "\n",
        "**Reduce Booking Cancellations:** Understand the drivers behind booking cancellations and implement measures to minimize cancellations, thereby increasing revenue stability and guest satisfaction.\n",
        "\n",
        "**Improve Customer Experience:** Gain insights into customer preferences and behavior to tailor services, such as meal offerings, room assignments, and special requests, to enhance the overall guest experience.\n",
        "\n",
        "**Optimize Resource Allocation:** Utilize data-driven insights to optimize resource allocation, such as staffing levels, room inventory management, and parking space availability, to meet guest demands efficiently.\n",
        "\n",
        "**Inform Strategic Decision-Making:** Provide actionable insights to inform strategic decision-making processes, including marketing strategies, pricing policies, and operational improvements, to drive sustainable business growth and competitiveness in the hospitality industry.\n",
        "\n",
        "By achieving these objectives, the project aims to contribute to the long-term success and profitability of the hotel business while ensuring exceptional guest satisfaction and loyalty."
      ],
      "metadata": {
        "id": "PhDvGCAqmjP1"
      }
    },
    {
      "cell_type": "markdown",
      "source": [
        "# **General Guidelines** : -  "
      ],
      "metadata": {
        "id": "mDgbUHAGgjLW"
      }
    },
    {
      "cell_type": "markdown",
      "source": [
        "1.   Well-structured, formatted, and commented code is required.\n",
        "2.   Exception Handling, Production Grade Code & Deployment Ready Code will be a plus. Those students will be awarded some additional credits.\n",
        "     \n",
        "     The additional credits will have advantages over other students during Star Student selection.\n",
        "       \n",
        "             [ Note: - Deployment Ready Code is defined as, the whole .ipynb notebook should be executable in one go\n",
        "                       without a single error logged. ]\n",
        "\n",
        "3.   Each and every logic should have proper comments.\n",
        "4. You may add as many number of charts you want. Make Sure for each and every chart the following format should be answered.\n",
        "        \n",
        "\n",
        "```\n",
        "# Chart visualization code\n",
        "```\n",
        "            \n",
        "\n",
        "*   Why did you pick the specific chart?\n",
        "*   What is/are the insight(s) found from the chart?\n",
        "* Will the gained insights help creating a positive business impact?\n",
        "Are there any insights that lead to negative growth? Justify with specific reason.\n",
        "\n",
        "5. You have to create at least 20 logical & meaningful charts having important insights.\n",
        "\n",
        "\n",
        "[ Hints : - Do the Vizualization in  a structured way while following \"UBM\" Rule.\n",
        "\n",
        "U - Univariate Analysis,\n",
        "\n",
        "B - Bivariate Analysis (Numerical - Categorical, Numerical - Numerical, Categorical - Categorical)\n",
        "\n",
        "M - Multivariate Analysis\n",
        " ]\n",
        "\n",
        "\n",
        "\n"
      ],
      "metadata": {
        "id": "ZrxVaUj-hHfC"
      }
    },
    {
      "cell_type": "markdown",
      "source": [
        "# ***Let's Begin !***"
      ],
      "metadata": {
        "id": "O_i_v8NEhb9l"
      }
    },
    {
      "cell_type": "markdown",
      "source": [
        "## ***1. Know Your Data***"
      ],
      "metadata": {
        "id": "HhfV-JJviCcP"
      }
    },
    {
      "cell_type": "markdown",
      "source": [
        "### Import Libraries"
      ],
      "metadata": {
        "id": "Y3lxredqlCYt"
      }
    },
    {
      "cell_type": "code",
      "source": [
        "# Import Libraries\n",
        "import pandas as pd\n",
        "import numpy as np\n",
        "import matplotlib.pyplot as plt\n",
        "import seaborn as sns"
      ],
      "metadata": {
        "id": "M8Vqi-pPk-HR"
      },
      "execution_count": null,
      "outputs": []
    },
    {
      "cell_type": "markdown",
      "source": [
        "### Dataset Loading"
      ],
      "metadata": {
        "id": "3RnN4peoiCZX"
      }
    },
    {
      "cell_type": "code",
      "source": [
        "# Load Dataset\n",
        "from google.colab import drive\n",
        "drive.mount('/content/drive')"
      ],
      "metadata": {
        "id": "4CkvbW_SlZ_R"
      },
      "execution_count": null,
      "outputs": []
    },
    {
      "cell_type": "markdown",
      "source": [],
      "metadata": {
        "id": "5TJFP6TPZFq5"
      }
    },
    {
      "cell_type": "code",
      "source": [
        "data = pd.read_csv('/content/drive/My Drive/Airbnb booking analysis EDA/Airbnb Dataset/Airbnb NYC 2019.csv')\n",
        "# Before we the EDA and clean our data analysis ready let's create a copy of the Data Frame.\n",
        "airbnb_booking = data.copy()"
      ],
      "metadata": {
        "id": "_NwZ1HUJC4Qm"
      },
      "execution_count": null,
      "outputs": []
    },
    {
      "cell_type": "markdown",
      "source": [
        "### Dataset First View"
      ],
      "metadata": {
        "id": "x71ZqKXriCWQ"
      }
    },
    {
      "cell_type": "code",
      "source": [
        "# Dataset First\n",
        "airbnb_booking.head()"
      ],
      "metadata": {
        "id": "LWNFOSvLl09H"
      },
      "execution_count": null,
      "outputs": []
    },
    {
      "cell_type": "markdown",
      "source": [
        "### Dataset Rows & Columns count"
      ],
      "metadata": {
        "id": "7hBIi_osiCS2"
      }
    },
    {
      "cell_type": "code",
      "source": [
        "# Dataset Rows & Columns\n",
        "airbnb_booking.shape"
      ],
      "metadata": {
        "id": "Kllu7SJgmLij"
      },
      "execution_count": null,
      "outputs": []
    },
    {
      "cell_type": "markdown",
      "source": [
        "### Dataset Information"
      ],
      "metadata": {
        "id": "JlHwYmJAmNHm"
      }
    },
    {
      "cell_type": "code",
      "source": [
        "# Dataset Info\n",
        "airbnb_booking.info()"
      ],
      "metadata": {
        "id": "e9hRXRi6meOf"
      },
      "execution_count": null,
      "outputs": []
    },
    {
      "cell_type": "markdown",
      "source": [
        "#### Duplicate Values"
      ],
      "metadata": {
        "id": "35m5QtbWiB9F"
      }
    },
    {
      "cell_type": "code",
      "source": [
        "# Dataset Duplicate Value Count\n",
        "len(airbnb_booking[airbnb_booking.duplicated()])"
      ],
      "metadata": {
        "id": "1sLdpKYkmox0"
      },
      "execution_count": null,
      "outputs": []
    },
    {
      "cell_type": "markdown",
      "source": [
        "#### Missing Values/Null Values"
      ],
      "metadata": {
        "id": "PoPl-ycgm1ru"
      }
    },
    {
      "cell_type": "code",
      "source": [
        "# Missing Values/Null Values Count\n",
        "print(airbnb_booking.isnull().sum())"
      ],
      "metadata": {
        "id": "GgHWkxvamxVg"
      },
      "execution_count": null,
      "outputs": []
    },
    {
      "cell_type": "markdown",
      "source": [
        "The dataset contains missing values in multiple columns.\n",
        "The columns with missing values are children, country, agent, and company.\n",
        "\n",
        "The column **name** has **16** missing values.\n",
        "\n",
        "The column **host_name** has **21** missing values.\n",
        "\n",
        "The column **last_review** has **10052** missing values.\n",
        "\n",
        "The column **reviews_per_month** has **10052** missing values."
      ],
      "metadata": {
        "id": "IjXHD_ULGjkM"
      }
    },
    {
      "cell_type": "code",
      "source": [
        "# Visualizing the missing values\n",
        "# Checking Null Value by plotting Heatmap\n",
        "sns.heatmap(airbnb_booking.isnull(), cbar=False)"
      ],
      "metadata": {
        "id": "3q5wnI3om9sJ"
      },
      "execution_count": null,
      "outputs": []
    },
    {
      "cell_type": "markdown",
      "source": [
        "### What did you know about your dataset?"
      ],
      "metadata": {
        "id": "H0kj-8xxnORC"
      }
    },
    {
      "cell_type": "markdown",
      "source": [
        "###**So Far we know about that:**\n",
        "\n",
        "**Number of Rows:** The dataset contains **48895** entries or rows.\n",
        "\n",
        "**Number of Columns:** There are **16** columns in the dataset, each representing different attributes or features related to hotel bookings.\n",
        "\n",
        "**Data Types:** The dataset contains a mix of data types, including integers (int64), floats (float64), and objects (object). This suggests that the dataset includes both numerical and categorical variables.\n",
        "\n",
        "**Duplicates Rows:**\n",
        "The dataset contains **0** duplicate entries.\n",
        "\n",
        "**Missing Values:** While the majority of columns contain complete data, several columns exhibit notable numbers of missing values. Specifically, the **last_reviews and reviews_per_month** column shows a substantial count of **10052** missing values each. Additionally, the **name** and **host_name** columns contain **16** and **21** missing values, respectively."
      ],
      "metadata": {
        "id": "gfoNAAC-nUe_"
      }
    },
    {
      "cell_type": "markdown",
      "source": [
        "## ***2. Understanding Your Variables***"
      ],
      "metadata": {
        "id": "nA9Y7ga8ng1Z"
      }
    },
    {
      "cell_type": "code",
      "source": [
        "# Dataset Columns\n",
        "airbnb_booking.columns"
      ],
      "metadata": {
        "id": "j7xfkqrt5Ag5"
      },
      "execution_count": null,
      "outputs": []
    },
    {
      "cell_type": "code",
      "source": [
        "# Dataset Describe\n",
        "airbnb_booking.describe(include='all')"
      ],
      "metadata": {
        "id": "DnOaZdaE5Q5t"
      },
      "execution_count": null,
      "outputs": []
    },
    {
      "cell_type": "markdown",
      "source": [
        "### Variables Description"
      ],
      "metadata": {
        "id": "PBTbrJXOngz2"
      }
    },
    {
      "cell_type": "markdown",
      "source": [
        "**Here'a variable description for each column in dataset**\n",
        "**id**: Unique id\n",
        "\n",
        "**name**: Name of AirBnB listings\n",
        "\n",
        "**host_id**: Unique id given to host\n",
        "\n",
        "**host_name**: Name of the host\n",
        "\n",
        "**neighbourhood_group**: Location of AirBnb\n",
        "\n",
        "**latitude**: Latitude range AirBnB\n",
        "\n",
        "**longitude**: longitude range of AirBnb\n",
        "\n",
        "**room_type**: type of room listing(Private room or Entire home/apt)\n",
        "\n",
        "**price**: price of listing(in $)\n",
        "\n",
        "**minimum_nights**: minimun nights to be paid for\n",
        "\n",
        "**number_of _reviews**: number of reviews given by customers\n",
        "\n",
        "**last_review**: content of the last review\n",
        "\n",
        "**reviews_per_month**: number of checks per month\n",
        "\n",
        "**calculated_host_listing_count**: host count staying in AirBnB\n",
        "\n",
        "**availability_365**: Availability of AirBnB listing around the year"
      ],
      "metadata": {
        "id": "aJV4KIxSnxay"
      }
    },
    {
      "cell_type": "markdown",
      "source": [
        "### Check Unique Values for each variable."
      ],
      "metadata": {
        "id": "u3PMJOP6ngxN"
      }
    },
    {
      "cell_type": "code",
      "source": [
        "# Check Unique Values for each variable.\n",
        "for i in airbnb_booking.columns.tolist():\n",
        "  print(\"No. of unique values in \",i,\"is\",airbnb_booking[i].nunique(),\".\")"
      ],
      "metadata": {
        "id": "zms12Yq5n-jE"
      },
      "execution_count": null,
      "outputs": []
    },
    {
      "cell_type": "markdown",
      "source": [
        "## 3. ***Data Wrangling***"
      ],
      "metadata": {
        "id": "dauF4eBmngu3"
      }
    },
    {
      "cell_type": "markdown",
      "source": [
        "### Data Wrangling Code"
      ],
      "metadata": {
        "id": "bKJF3rekwFvQ"
      }
    },
    {
      "cell_type": "code",
      "source": [
        "# Write your code to make your dataset analysis ready.\n",
        "# Let's Start with data cleaning.\n",
        "# Remove duplicate rows from the hotel_booking DataFrame, modifying it in place\n",
        "airbnb_booking.drop_duplicates(inplace=True)"
      ],
      "metadata": {
        "id": "wk-9a2fpoLcV"
      },
      "execution_count": null,
      "outputs": []
    },
    {
      "cell_type": "code",
      "source": [
        "\n",
        "# Fill missing values in 'name' and 'host_name' with 'Unknown'\n",
        "airbnb_booking['name'].fillna('Unknown', inplace=True)\n",
        "airbnb_booking['host_name'].fillna('Unknown', inplace=True)"
      ],
      "metadata": {
        "id": "xD8I7nF0JXmM"
      },
      "execution_count": null,
      "outputs": []
    },
    {
      "cell_type": "code",
      "source": [
        "#fill missing values in 'last_reviews' with 'no review' and 'reviews_per_month' with '0'\n",
        "airbnb_booking['last_review'].fillna('No review', inplace=True)\n",
        "airbnb_booking['reviews_per_month'].fillna(0,inplace=True)"
      ],
      "metadata": {
        "id": "LdiF-_q6NHQU"
      },
      "execution_count": null,
      "outputs": []
    },
    {
      "cell_type": "code",
      "source": [
        "airbnb_booking.isnull().sum()"
      ],
      "metadata": {
        "id": "FBMyWvaVG_LE"
      },
      "execution_count": null,
      "outputs": []
    },
    {
      "cell_type": "markdown",
      "source": [
        "### What all manipulations have you done and insights you found?"
      ],
      "metadata": {
        "id": "MSa1f5Uengrz"
      }
    },
    {
      "cell_type": "markdown",
      "source": [
        "Filled missing values in 'name' and 'host_name' with 'Unknown' respecteively.\n",
        "\n",
        "Filled missing values in 'last_review' with 'No review'\n",
        "\n",
        "Filled missing values in 'reviews_per_month' with '0'\n",
        "\n"
      ],
      "metadata": {
        "id": "LbyXE7I1olp8"
      }
    },
    {
      "cell_type": "markdown",
      "source": [
        "## ***4. Data Vizualization, Storytelling & Experimenting with charts : Understand the relationships between variables***"
      ],
      "metadata": {
        "id": "GF8Ens_Soomf"
      }
    },
    {
      "cell_type": "markdown",
      "source": [
        "#### Distribution Of Airbnb Bookings Price Range"
      ],
      "metadata": {
        "id": "0wOQAZs5pc--"
      }
    },
    {
      "cell_type": "code",
      "source": [
        "# Create a figure with a custom size\n",
        "plt.figure(figsize=(12, 5))\n",
        "\n",
        "# Set the seaborn theme to darkgrid\n",
        "sns.set_theme(style='darkgrid')\n",
        "\n",
        "# Create a histogram of the 'price' column of the Airbnb_df dataframe\n",
        "# using sns distplot function and specifying the color as red\n",
        "sns.distplot(airbnb_booking['price'],color=('r'))\n",
        "\n",
        "# Add labels to the x-axis and y-axis\n",
        "plt.xlabel('Price', fontsize=14)\n",
        "plt.ylabel('Density', fontsize=14)\n",
        "\n",
        "# Add a title to the plot\n",
        "plt.title('Distribution of Airbnb Prices',fontsize=15)"
      ],
      "metadata": {
        "id": "7v_ESjsspbW7"
      },
      "execution_count": null,
      "outputs": []
    },
    {
      "cell_type": "markdown",
      "source": [
        "##### 1. Why did you pick the specific chart?"
      ],
      "metadata": {
        "id": "K5QZ13OEpz2H"
      }
    },
    {
      "cell_type": "markdown",
      "source": [
        "The histogram is a popular graphing tool. It is used to summarize discrete or continuous data that are measured on an interval scale. It is often used to illustrate the major features of the distribution of the data in a convenient form. It is also useful when dealing with large data sets (greater than 100 observations). It can help detect any unusual observations (outliers) or any gaps in the data.\n",
        "\n",
        "Thus, I used the histogram plot to analysis the variable distributions over the whole dataset whether it's symmetric or not."
      ],
      "metadata": {
        "id": "XESiWehPqBRc"
      }
    },
    {
      "cell_type": "markdown",
      "source": [
        "##### 2. What is/are the insight(s) found from the chart?"
      ],
      "metadata": {
        "id": "lQ7QKXXCp7Bj"
      }
    },
    {
      "cell_type": "markdown",
      "source": [
        "*   The range of prices being charged on Airbnb appears to be from **20 to 330 dollars** , with the majority of listings falling in the price range of **50 to 150 dollars.**\n",
        "\n",
        "*   The distribution of prices appears to have a peak in the **50 to 150 dollars range**, with a relatively lower density of listings in higher and lower price ranges.\n",
        "\n",
        "*   There may be fewer listings available at prices above **250 dollars**, as\n",
        "the density of listings drops significantly in this range."
      ],
      "metadata": {
        "id": "C_j1G7yiqdRP"
      }
    },
    {
      "cell_type": "markdown",
      "source": [
        "##### 3. Will the gained insights help creating a positive business impact?\n",
        "Are there any insights that lead to negative growth? Justify with specific reason."
      ],
      "metadata": {
        "id": "448CDAPjqfQr"
      }
    },
    {
      "cell_type": "markdown",
      "source": [
        "Yes, the insights gained can create a positive business impact by helping hosts optimize their pricing strategies. Knowing that most Airbnb listings fall between \\$50 and \\$150 allows hosts to stay competitive within this peak range, maximizing occupancy and revenue. However, there can also be negative growth if a host prices above \\$250 without offering proportional value. This is supported by the sharp drop in listing density in this range, suggesting lower demand. Overpricing may lead to reduced bookings, decreased visibility in search results, and ultimately, revenue loss—highlighting the importance of aligning pricing with market trends and customer expectations.\n"
      ],
      "metadata": {
        "id": "3cspy4FjqxJW"
      }
    },
    {
      "cell_type": "markdown",
      "source": [
        "#### Total Listing/Property count in Each Neighborhood Group"
      ],
      "metadata": {
        "id": "KSlN3yHqYklG"
      }
    },
    {
      "cell_type": "code",
      "source": [
        "# Count the number of listings in each neighborhood group and store the result in a Pandas series\n",
        "counts = airbnb_booking['neighbourhood_group'].value_counts()\n",
        "\n",
        "# Reset the index of the series so that the neighborhood groups become columns in the resulting dataframe\n",
        "Top_Neighborhood_group = counts.reset_index()\n",
        "\n",
        "# Rename the columns of the dataframe to be more descriptive\n",
        "Top_Neighborhood_group.columns = ['Neighborhood_Groups', 'Listing_Counts']\n",
        "\n",
        "# display the resulting DataFrame\n",
        "Top_Neighborhood_group"
      ],
      "metadata": {
        "id": "R4YgtaqtYklH"
      },
      "execution_count": null,
      "outputs": []
    },
    {
      "cell_type": "code",
      "source": [
        "# Set the figure size\n",
        "plt.figure(figsize=(12, 8))\n",
        "\n",
        "# Create a countplot of the neighbourhood group data\n",
        "sns.countplot(airbnb_booking['neighbourhood_group'])\n",
        "\n",
        "# Set the title of the plot\n",
        "plt.title('Neighbourhood_group Listing Counts in NYC', fontsize=15)\n",
        "\n",
        "# Set the x-axis label\n",
        "plt.xlabel('Neighbourhood_Group', fontsize=14)\n",
        "\n",
        "# Set the y-axis label\n",
        "plt.ylabel('total listings counts', fontsize=14)"
      ],
      "metadata": {
        "id": "IzMs0RrnaYS8"
      },
      "execution_count": null,
      "outputs": []
    },
    {
      "cell_type": "markdown",
      "source": [
        "##### 1. Why did you pick the specific chart?"
      ],
      "metadata": {
        "id": "t6dVpIINYklI"
      }
    },
    {
      "cell_type": "markdown",
      "source": [
        "A **countplot** is a powerful data visualization tool that displays the frequency of categorical data. It helps identify patterns, trends, and imbalances within categories quickly. Ideal for exploratory data analysis, it simplifies comparison across groups and supports clear, intuitive insights, making data interpretation and communication more effective and efficient.\n"
      ],
      "metadata": {
        "id": "5aaW0BYyYklI"
      }
    },
    {
      "cell_type": "markdown",
      "source": [
        "##### 2. What is/are the insight(s) found from the chart?"
      ],
      "metadata": {
        "id": "ijmpgYnKYklI"
      }
    },
    {
      "cell_type": "markdown",
      "source": [
        "*   Manhattan and Brooklyn have the highest number of listings on Airbnb, with 21661 and 20104 listings respectively.\n",
        "\n",
        "*   Queens and the Bronx have significantly fewer listings compared to Manhattan and Brooklyn, with 5,666 and 1,091 listings, respectively\n",
        "\n",
        "*   Staten Island has the fewest number of listings, with only 373.\n",
        "\n",
        "*   The distribution of listings across the different neighborhood groups is skewed, with a concentration of listings in Manhattan and Brooklyn.\n",
        "\n",
        "*   Despite being larger in size, the neighborhoods in Queens, the Bronx, and Staten Island have fewer listings on Airbnb compared to Manhattan, which has a smaller geographical area.\n",
        "\n",
        "*   This could suggest that the demand for Airbnb rentals is higher in Manhattan compared to the other neighborhoods, leading to a higher concentration of listings in this area.\n",
        "\n",
        "*   Alternatively, it could be that the supply of listings is higher in Manhattan due to a higher number of homeowners or property owners in this neighborhood who are willing to list their properties on Airbnb."
      ],
      "metadata": {
        "id": "PSx9atu2YklI"
      }
    },
    {
      "cell_type": "markdown",
      "source": [
        "##### 3. Will the gained insights help creating a positive business impact?\n",
        "Are there any insights that lead to negative growth? Justify with specific reason."
      ],
      "metadata": {
        "id": "-JiQyfWJYklI"
      }
    },
    {
      "cell_type": "markdown",
      "source": [
        "Yes, the gained insights can help create a positive business impact by guiding investment and marketing strategies toward high-demand areas like Manhattan and Brooklyn, which have the highest number of Airbnb listings. This concentration suggests strong demand or a more active host base. However, this skewed distribution may also indicate oversaturation, leading to increased competition and reduced profitability. In contrast, underrepresented areas like Queens, the Bronx, and Staten Island may present growth opportunities. Ignoring these could lead to missed market expansion. Thus, while the insights mostly support positive growth, strategic decisions must avoid reinforcing imbalances that could hinder long-term sustainability.\n"
      ],
      "metadata": {
        "id": "BcBbebzrYklV"
      }
    },
    {
      "cell_type": "markdown",
      "source": [
        "#### Top Neighborhoods by Listing/property"
      ],
      "metadata": {
        "id": "EM7whBJCYoAo"
      }
    },
    {
      "cell_type": "code",
      "source": [
        "# create a new DataFrame that displays the top 10 neighborhoods in the Airbnb NYC dataset based on the number of listings in each neighborhood\n",
        "Top_Neighborhoods = airbnb_booking['neighbourhood'].value_counts()[:10].reset_index()\n",
        "\n",
        "# rename the columns of the resulting DataFrame to 'Top_Neighborhoods' and 'Listing_Counts'\n",
        "Top_Neighborhoods.columns = ['Top_Neighborhoods', 'Listing_Counts']\n",
        "\n",
        "# display the resulting DataFrame\n",
        "Top_Neighborhoods"
      ],
      "metadata": {
        "id": "t6GMdE67YoAp"
      },
      "execution_count": null,
      "outputs": []
    },
    {
      "cell_type": "code",
      "source": [
        "# Get the top 10 neighborhoods by listing count\n",
        "top_10_neigbourhoods = airbnb_booking['neighbourhood'].value_counts().nlargest(10)\n",
        "\n",
        "# Create a list of colors to use for the bars\n",
        "colors = ['c', 'g', 'olive', 'y', 'm', 'orange', '#C0C0C0', '#800000', '#008000', '#000080']\n",
        "\n",
        "# Create a bar plot of the top 10 neighborhoods using the specified colors\n",
        "top_10_neigbourhoods.plot(kind='bar', figsize=(15, 6), color = colors)\n",
        "\n",
        "# Set the x-axis label\n",
        "plt.xlabel('Neighbourhood', fontsize=14)\n",
        "\n",
        "# Set the y-axis label\n",
        "plt.ylabel('Total Listing Counts', fontsize=14)\n",
        "\n",
        "# Set the title of the plot\n",
        "plt.title('Listings by Top Neighborhoods in NYC', fontsize=15)"
      ],
      "metadata": {
        "id": "HPxQbgI4NNu-"
      },
      "execution_count": null,
      "outputs": []
    },
    {
      "cell_type": "markdown",
      "source": [
        "##### 1. Why did you pick the specific chart?"
      ],
      "metadata": {
        "id": "fge-S5ZAYoAp"
      }
    },
    {
      "cell_type": "markdown",
      "source": [
        "A bar plot offers a clear, visual comparison of categorical data. It highlights differences in quantities across categories, making trends and patterns easy to identify. Bar plots are simple to create, interpret, and effective for both small and large datasets, supporting decision-making and data presentation in various fields.\n"
      ],
      "metadata": {
        "id": "5dBItgRVYoAp"
      }
    },
    {
      "cell_type": "markdown",
      "source": [
        "##### 2. What is/are the insight(s) found from the chart?"
      ],
      "metadata": {
        "id": "85gYPyotYoAp"
      }
    },
    {
      "cell_type": "markdown",
      "source": [
        "*   The top neighborhoods in New York City in terms of listing counts are Williamsburg, Bedford-Stuyvesant, Harlem, Bushwick, and the Upper West Side.\n",
        "\n",
        "*   The top neighborhoods are primarily located in Brooklyn and Manhattan. This may be due to the fact that these boroughs have a higher overall population and a higher demand for housing.\n",
        "\n",
        "*   The number of listings alone may not be indicative of the overall demand for housing in a particular neighborhood, as other factors such as the cost of living and the availability of housing may also play a role."
      ],
      "metadata": {
        "id": "4jstXR6OYoAp"
      }
    },
    {
      "cell_type": "markdown",
      "source": [
        "##### 3. Will the gained insights help creating a positive business impact?\n",
        "Are there any insights that lead to negative growth? Justify with specific reason."
      ],
      "metadata": {
        "id": "RoGjAbkUYoAp"
      }
    },
    {
      "cell_type": "markdown",
      "source": [
        "The gained insights can create a positive business impact by helping property managers and investors focus their efforts on high-demand neighborhoods like Williamsburg and Harlem, potentially maximizing occupancy and revenue. However, relying solely on listing counts could lead to negative growth. For instance, a high number of listings in a neighborhood might indicate market saturation or high turnover, suggesting instability. Without considering cost of living and housing availability, businesses risk investing in areas with limited profitability. Therefore, combining listing data with economic and demographic factors is crucial for making informed, growth-oriented decisions in the real estate market.\n"
      ],
      "metadata": {
        "id": "zfJ8IqMcYoAp"
      }
    },
    {
      "cell_type": "markdown",
      "source": [
        "#### Top Hosts With More Listing/Property"
      ],
      "metadata": {
        "id": "4Of9eVA-YrdM"
      }
    },
    {
      "cell_type": "code",
      "source": [
        "# create a new DataFrame that displays the top 10 hosts in the Airbnb NYC dataset based on the number of listings each host has\n",
        "top_10_hosts = airbnb_booking['host_name'].value_counts()[:10].reset_index()\n",
        "\n",
        "# rename the columns of the resulting DataFrame to 'host_name' and 'Total_listings'\n",
        "top_10_hosts.columns = ['host_name', 'Total_listings']\n",
        "\n",
        "# display the resulting DataFrame\n",
        "top_10_hosts"
      ],
      "metadata": {
        "id": "irlUoxc8YrdO"
      },
      "execution_count": null,
      "outputs": []
    },
    {
      "cell_type": "code",
      "source": [
        "# Get the top 10 hosts by listing count\n",
        "top_hosts = airbnb_booking['host_name'].value_counts()[:10]\n",
        "\n",
        "# Create a bar plot of the top 10 hosts\n",
        "top_hosts.plot(kind='bar', color='peru', figsize=(18, 7))\n",
        "\n",
        "# Set the x-axis label\n",
        "plt.xlabel('top10_hosts', fontsize=14)\n",
        "\n",
        "# Set the y-axis label\n",
        "plt.ylabel('total_NYC_listings', fontsize=14)\n",
        "\n",
        "# Set the title of the plot\n",
        "plt.title('top 10 hosts on the basis of no of listings in entire NYC!', fontsize=15)"
      ],
      "metadata": {
        "id": "9IfE26SnNi46"
      },
      "execution_count": null,
      "outputs": []
    },
    {
      "cell_type": "markdown",
      "source": [
        "\n",
        "\n",
        "```\n",
        "# This is formatted as code\n",
        "```\n",
        "\n",
        "##### 1. Why did you pick the specific chart?"
      ],
      "metadata": {
        "id": "iky9q4vBYrdO"
      }
    },
    {
      "cell_type": "markdown",
      "source": [
        "A bar plot offers a clear, visual comparison of categorical data. It highlights differences in quantities across categories, making trends and patterns easy to identify. Bar plots are simple to create, interpret, and effective for both small and large datasets, supporting decision-making and data presentation in various fields."
      ],
      "metadata": {
        "id": "aJRCwT6DYrdO"
      }
    },
    {
      "cell_type": "markdown",
      "source": [
        "##### 2. What is/are the insight(s) found from the chart?"
      ],
      "metadata": {
        "id": "F6T5p64dYrdO"
      }
    },
    {
      "cell_type": "markdown",
      "source": [
        "*   The top three hosts in terms of total listings are Michael, David, and John, who have 417, 403, and 327 listings, respectively.\n",
        "\n",
        "*   There is a relatively large gap between the top two hosts and the rest of the hosts. For example, john has 327 listings, which is significantly fewer than Michael's 417 listings.\n",
        "\n",
        "*   In this top10 list Maria has 204 listings, which is significantly fewer than\n",
        "Michael's 417 listings. This could indicate that there is a lot of variation in the success of different hosts on Airbnb.\n",
        "\n",
        "*   There are relatively few hosts with a large number of listings. This could indicate that the Airbnb market is relatively competitive, with a small number of hosts dominating a large portion of the market."
      ],
      "metadata": {
        "id": "Xx8WAJvtYrdO"
      }
    },
    {
      "cell_type": "markdown",
      "source": [
        "##### 3. Will the gained insights help creating a positive business impact?\n",
        "Are there any insights that lead to negative growth? Justify with specific reason."
      ],
      "metadata": {
        "id": "y-Ehk30pYrdP"
      }
    },
    {
      "cell_type": "markdown",
      "source": [
        "Yes, the gained insights can help create a positive business impact by identifying top-performing hosts and understanding market concentration. This knowledge enables Airbnb to form strategic partnerships, design targeted incentives, and support underperforming hosts for balanced growth. However, the data also reveals a potential negative insight: market dominance by a few hosts may discourage new entrants and reduce competition, potentially impacting customer experience and pricing fairness. For instance, with Michael having more than double the listings of Maria, such imbalance could limit diversity in listings and innovation, leading to stagnation or negative perception among users and smaller hosts.\n"
      ],
      "metadata": {
        "id": "jLNxxz7MYrdP"
      }
    },
    {
      "cell_type": "markdown",
      "source": [
        "#### Number Of Active Hosts Per Location"
      ],
      "metadata": {
        "id": "bamQiAODYuh1"
      }
    },
    {
      "cell_type": "code",
      "source": [
        "# create a new DataFrame that displays the number of hosts in each neighborhood group in the Airbnb NYC dataset\n",
        "hosts_per_location = airbnb_booking.groupby('neighbourhood_group')['id'].count().reset_index()\n",
        "\n",
        "# rename the columns of the resulting DataFrame to 'Neighbourhood_Groups' and 'Host_counts'\n",
        "hosts_per_location.columns = ['Neighbourhood_Groups', 'Host_counts']\n",
        "\n",
        "# display the resulting DataFrame\n",
        "hosts_per_location"
      ],
      "metadata": {
        "id": "TIJwrbroYuh3"
      },
      "execution_count": null,
      "outputs": []
    },
    {
      "cell_type": "code",
      "source": [
        "# Group the data by neighbourhood_group and count the number of listings for each group\n",
        "hosts_per_location = airbnb_booking.groupby('neighbourhood_group')['id'].count()\n",
        "\n",
        "# Get the list of neighbourhood_group names\n",
        "locations = hosts_per_location.index\n",
        "\n",
        "# Get the list of host counts for each neighbourhood_group\n",
        "host_counts = hosts_per_location.values\n",
        "\n",
        "# Set the figure size\n",
        "plt.figure(figsize=(12, 5))\n",
        "\n",
        "# Create the line chart with some experiments using marker function\n",
        "plt.plot(locations, host_counts, marker='o', ms=12, mew=4, mec='r')\n",
        "\n",
        "# Add a title and labels to the x-axis and y-axis\n",
        "plt.title('Number of Active Hosts per Location', fontsize='15')\n",
        "plt.xlabel('Location', fontsize='14')\n",
        "plt.ylabel('Number of Active Hosts', fontsize='14')\n",
        "\n",
        "# Show the plot\n",
        "plt.show()"
      ],
      "metadata": {
        "id": "iFRngo05OAgz"
      },
      "execution_count": null,
      "outputs": []
    },
    {
      "cell_type": "markdown",
      "source": [
        "##### 1. Why did you pick the specific chart?"
      ],
      "metadata": {
        "id": "QHF8YVU7Yuh3"
      }
    },
    {
      "cell_type": "markdown",
      "source": [
        "A line chart effectively displays trends and patterns over time, making it ideal for tracking changes in data. It allows easy comparison between multiple data sets, highlights fluctuations, and supports forecasting. Its simplicity and clarity make it a powerful tool for visualizing continuous data and informing time-based decision-making.\n"
      ],
      "metadata": {
        "id": "dcxuIMRPYuh3"
      }
    },
    {
      "cell_type": "markdown",
      "source": [
        "##### 2. What is/are the insight(s) found from the chart?"
      ],
      "metadata": {
        "id": "GwzvFGzlYuh3"
      }
    },
    {
      "cell_type": "markdown",
      "source": [
        "*   Manhattan has the largest number of hosts with 21661,Brooklyn has the second largest number of hosts with 20104.\n",
        "\n",
        "* After that Queens with 5666 and the Bronx with 1091 . while Staten Island has the fewest with 373.\n",
        "\n",
        "*   Brooklyn and Manhattan have the largest number of hosts, with more than double the number of hosts in Queens and more than 18 times the number of hosts in the Bronx."
      ],
      "metadata": {
        "id": "uyqkiB8YYuh3"
      }
    },
    {
      "cell_type": "markdown",
      "source": [
        "##### 3. Will the gained insights help creating a positive business impact?\n",
        "Are there any insights that lead to negative growth? Justify with specific reason."
      ],
      "metadata": {
        "id": "qYpmQ266Yuh3"
      }
    },
    {
      "cell_type": "markdown",
      "source": [
        "Yes, the gained insights can help create a positive business impact by identifying high-demand areas like Manhattan and Brooklyn, guiding targeted marketing, pricing strategies, and investment decisions. However, insights could also indicate potential negative growth. For example, Staten Island and the Bronx have significantly fewer hosts, suggesting low demand or unattractive market conditions. Investing in these areas without understanding the root causes—such as limited tourist interest or poor connectivity—could lead to low occupancy and revenue. Thus, while high-host areas offer growth opportunities, low-host regions require cautious evaluation to avoid unprofitable expansion and ensure strategic resource allocation.\n"
      ],
      "metadata": {
        "id": "_WtzZ_hCYuh4"
      }
    },
    {
      "cell_type": "markdown",
      "source": [
        "####Total Counts Of Each Room Type"
      ],
      "metadata": {
        "id": "BZR9WyysphqO"
      }
    },
    {
      "cell_type": "code",
      "source": [
        "# create a new DataFrame that displays the number of listings of each room type in the Airbnb NYC dataset\n",
        "top_room_type = airbnb_booking['room_type'].value_counts().reset_index()\n",
        "\n",
        "# rename the columns of the resulting DataFrame to 'Room_Type' and 'Total_counts'\n",
        "top_room_type.columns = ['Room_Type', 'Total_counts']\n",
        "\n",
        "# display the resulting DataFrame\n",
        "top_room_type"
      ],
      "metadata": {
        "id": "TdPTWpAVphqO"
      },
      "execution_count": null,
      "outputs": []
    },
    {
      "cell_type": "code",
      "source": [
        "# Set the figure size\n",
        "plt.figure(figsize=(10, 6))\n",
        "\n",
        "# Get the room type counts\n",
        "room_type_counts = airbnb_booking['room_type'].value_counts()\n",
        "\n",
        "# Set the labels and sizes for the pie chart\n",
        "labels = room_type_counts.index\n",
        "sizes = room_type_counts.values\n",
        "\n",
        "# Create the pie chart\n",
        "plt.pie(sizes, labels=labels, autopct='%1.1f%%')\n",
        "\n",
        "# Add a legend to the chart\n",
        "plt.legend(title='Room Type', bbox_to_anchor=(0.8, 0, 0.5, 1), fontsize='12')\n",
        "\n",
        "# Show the plot\n",
        "plt.show()"
      ],
      "metadata": {
        "id": "bCEZOMyPo5np"
      },
      "execution_count": null,
      "outputs": []
    },
    {
      "cell_type": "markdown",
      "source": [
        "##### 1. Why did you pick the specific chart?"
      ],
      "metadata": {
        "id": "jj7wYXLtphqO"
      }
    },
    {
      "cell_type": "markdown",
      "source": [
        "A pie chart expresses a part-to-whole relationship in your data. It's easy to explain the percentage comparison through area covered in a circle with different colors. Where differenet percentage comparison comes into action pie chart is used frequently. So, I used Pie chart and which helped me to get the percentage comparision of the churn percentage account length wise."
      ],
      "metadata": {
        "id": "Ob8u6rCTphqO"
      }
    },
    {
      "cell_type": "markdown",
      "source": [
        "##### 2. What is/are the insight(s) found from the chart?"
      ],
      "metadata": {
        "id": "eZrbJ2SmphqO"
      }
    },
    {
      "cell_type": "markdown",
      "source": [
        "*  The majority of listings on Airbnb are for entire homes or apartments, with 25409 listings, followed by private rooms with 22326 listings, and shared rooms with 1160 listings.\n",
        "\n",
        "*  There is a significant difference in the number of listings for each room type. For example, there are almost 20 times as many listings for entire homes or apartments as there are for shared rooms.\n",
        "\n",
        "*  The data suggests that travelers using Airbnb have a wide range of accommodation options to choose from, including private rooms and entire homes or apartments"
      ],
      "metadata": {
        "id": "mZtgC_hjphqO"
      }
    },
    {
      "cell_type": "markdown",
      "source": [
        "##### 3. Will the gained insights help creating a positive business impact?\n",
        "Are there any insights that lead to negative growth? Justify with specific reason."
      ],
      "metadata": {
        "id": "rFu4xreNphqO"
      }
    },
    {
      "cell_type": "markdown",
      "source": [
        "Yes, the insights can create a positive business impact by helping Airbnb optimize its platform to match user preferences. The dominance of entire homes or apartments (25409 listings) suggests a high demand for privacy and space, guiding Airbnb to prioritize such listings in marketing and user experience design. However, the low number of shared room listings (1160) could indicate underperformance or low demand. Investing in promoting shared rooms may not yield high returns and could lead to negative growth. Therefore, Airbnb should focus on enhancing its most popular offerings while reconsidering investment in low-demand segments like shared rooms.\n"
      ],
      "metadata": {
        "id": "ey_0qi68phqO"
      }
    },
    {
      "cell_type": "markdown",
      "source": [
        "####Stay Requirement counts by Minimum Nights using Bar chart"
      ],
      "metadata": {
        "id": "YJ55k-q6phqO"
      }
    },
    {
      "cell_type": "code",
      "source": [
        "# Group the DataFrame by the minimum_nights column and count the number of rows in each group\n",
        "min_nights_count = airbnb_booking.groupby('minimum_nights').size().reset_index(name = 'count')\n",
        "\n",
        "# Sort the resulting DataFrame in descending order by the count column\n",
        "min_nights_count = min_nights_count.sort_values('count', ascending=False)\n",
        "\n",
        "# Select the top 10 rows\n",
        "min_nights_count = min_nights_count.head(15)\n",
        "\n",
        "# Reset the index\n",
        "min_nights_count = min_nights_count.reset_index(drop=True)\n",
        "\n",
        "# Display the resulting DataFrame\n",
        "min_nights_count"
      ],
      "metadata": {
        "id": "B2aS4O1ophqO"
      },
      "execution_count": null,
      "outputs": []
    },
    {
      "cell_type": "code",
      "source": [
        "# Extract the minimum_nights and count columns from the DataFrame\n",
        "minimum_nights = min_nights_count['minimum_nights']\n",
        "count = min_nights_count['count']\n",
        "\n",
        "# Set the figure size\n",
        "plt.figure(figsize=(12, 4))\n",
        "\n",
        "# Create the bar plot\n",
        "plt.bar(minimum_nights, count)\n",
        "\n",
        "# Add axis labels and a title\n",
        "plt.xlabel('Minimum Nights', fontsize='14')\n",
        "plt.ylabel('Count', fontsize='14')\n",
        "plt.title('Stay Requirement by Minimum Nights', fontsize='15')\n",
        "\n",
        "# Show the plot\n",
        "plt.show()"
      ],
      "metadata": {
        "id": "cGawF2JWpN5f"
      },
      "execution_count": null,
      "outputs": []
    },
    {
      "cell_type": "markdown",
      "source": [
        "##### 1. Why did you pick the specific chart?"
      ],
      "metadata": {
        "id": "gCFgpxoyphqP"
      }
    },
    {
      "cell_type": "markdown",
      "source": [
        "Bar charts show the frequency counts of values for the different levels of a categorical or nominal variable. Sometimes, bar charts show other statistics, such as percentages."
      ],
      "metadata": {
        "id": "TVxDimi2phqP"
      }
    },
    {
      "cell_type": "markdown",
      "source": [
        "##### 2. What is/are the insight(s) found from the chart?"
      ],
      "metadata": {
        "id": "OVtJsKN_phqQ"
      }
    },
    {
      "cell_type": "markdown",
      "source": [
        "*   The majority of listings on Airbnb have a minimum stay requirement of 1 or 2 nights, with 12720 and 11696 listings, respectively.\n",
        "\n",
        "*   The number of listings with a minimum stay requirement decreases as the length of stay increases, with 7999 listings requiring a minimum stay of 3 nights, and so on.\n",
        "\n",
        "*   There are relatively few listings with a minimum stay requirement of 30 nights or more, with 3760 and 201 listings, respectively."
      ],
      "metadata": {
        "id": "ngGi97qjphqQ"
      }
    },
    {
      "cell_type": "markdown",
      "source": [
        "##### 3. Will the gained insights help creating a positive business impact?\n",
        "Are there any insights that lead to negative growth? Justify with specific reason."
      ],
      "metadata": {
        "id": "lssrdh5qphqQ"
      }
    },
    {
      "cell_type": "markdown",
      "source": [
        "Yes, the insights can help create a positive business impact by informing hosts and Airbnb about optimal minimum stay requirements. Shorter minimum stays (1–2 nights) attract more bookings, maximizing occupancy and revenue. However, listings with high minimum stay requirements (30+ nights) may face reduced visibility and booking rates, leading to negative growth. This could be due to limited traveler flexibility or preference for shorter stays. If many listings enforce longer stays without matching demand, they risk lower occupancy and profitability. Hence, adjusting stay policies based on demand patterns can help optimize listing performance and improve overall platform efficiency.\n"
      ],
      "metadata": {
        "id": "tBpY5ekJphqQ"
      }
    },
    {
      "cell_type": "markdown",
      "source": [
        "####most reviewed room type per month in neighbourhood groups"
      ],
      "metadata": {
        "id": "U2RJ9gkRphqQ"
      }
    },
    {
      "cell_type": "code",
      "source": [
        "# create a figure with a default size of (10, 8)\n",
        "f, ax = plt.subplots(figsize=(10, 8))\n",
        "\n",
        "# create a stripplot that displays the number of reviews per month for each room type in the Airbnb NYC dataset\n",
        "ax = sns.stripplot(x='room_type', y='reviews_per_month', hue='neighbourhood_group', dodge=True, data=airbnb_booking, palette='Set1')\n",
        "\n",
        "# set the title of the plot\n",
        "ax.set_title('Most Reviewed room_types in each Neighbourhood Groups', fontsize='14')"
      ],
      "metadata": {
        "id": "GM7a4YP4phqQ"
      },
      "execution_count": null,
      "outputs": []
    },
    {
      "cell_type": "markdown",
      "source": [
        "##### 1. Why did you pick the specific chart?"
      ],
      "metadata": {
        "id": "1M8mcRywphqQ"
      }
    },
    {
      "cell_type": "markdown",
      "source": [
        "A stripplot displays individual data points along an axis, making it ideal for visualizing the distribution and clustering of small datasets. It highlights variation and potential outliers, helps compare categories, and avoids overplotting. It's simple yet effective for revealing trends, especially when combined with jitter or other categorical plot overlays.\n"
      ],
      "metadata": {
        "id": "8agQvks0phqQ"
      }
    },
    {
      "cell_type": "markdown",
      "source": [
        "##### 2. What is/are the insight(s) found from the chart?"
      ],
      "metadata": {
        "id": "tgIPom80phqQ"
      }
    },
    {
      "cell_type": "markdown",
      "source": [
        "*   We can see that Private room recieved the most no of reviews/month where Manhattan had the highest reviews received for Private rooms with more than 50 reviews/month, followed by Manhattan in the chase.\n",
        "\n",
        "*   Manhattan & Queens got the most no of reviews for Entire home/apt room type.\n",
        "\n",
        "*   There were less reviews recieved from shared rooms as compared to other room types and it was from Staten Island followed by Bronx."
      ],
      "metadata": {
        "id": "Qp13pnNzphqQ"
      }
    },
    {
      "cell_type": "markdown",
      "source": [
        "##### 3. Will the gained insights help creating a positive business impact?\n",
        "Are there any insights that lead to negative growth? Justify with specific reason."
      ],
      "metadata": {
        "id": "JMzcOPDDphqR"
      }
    },
    {
      "cell_type": "markdown",
      "source": [
        "Yes, the gained insights can positively impact business by helping hosts focus on popular room types and high-demand locations. For example, prioritizing Private rooms in Manhattan or Entire home/apts in Manhattan and Queens can drive more bookings and revenue. However, low reviews for Shared rooms in Staten Island and Bronx may indicate low demand or customer dissatisfaction, potentially leading to negative growth if not addressed. This could be due to poor amenities, safety concerns, or accessibility issues. Businesses should consider improving quality or reallocating resources to high-performing segments to maximize returns and avoid losses in underperforming areas.\n"
      ],
      "metadata": {
        "id": "R4Ka1PC2phqR"
      }
    },
    {
      "cell_type": "markdown",
      "source": [
        "####Count Of Each Room Types In Entire NYC Using Multiple Bar Plot"
      ],
      "metadata": {
        "id": "x-EpHcCOp1ci"
      }
    },
    {
      "cell_type": "code",
      "source": [
        "# Now analysis Room types count in Neighbourhood groups in NYC\n",
        "\n",
        "# Set the size of the plot\n",
        "plt.rcParams['figure.figsize'] = (8, 5)\n",
        "\n",
        "# Create a countplot using seaborn\n",
        "ax = sns.countplot(y='room_type', hue='neighbourhood_group', data=airbnb_booking, palette='bright')\n",
        "\n",
        "# Calculate the total number of room_type values\n",
        "total = len(airbnb_booking['room_type'])\n",
        "\n",
        "# Add percentage labels to each bar in the plot\n",
        "for p in ax.patches:\n",
        "        percentage = '{:.1f}%'.format(100 * p.get_width()/total)\n",
        "        x = p.get_x() + p.get_width() + 0.02\n",
        "        y = p.get_y() + p.get_height()/2\n",
        "        ax.annotate(percentage, (x, y))\n",
        "\n",
        "# Add a title to the plot\n",
        "plt.title('count of each room types in entire NYC', fontsize='15')\n",
        "\n",
        "# Add a label to the x-axis\n",
        "plt.xlabel('Room counts', fontsize='14')\n",
        "\n",
        "# Rotate the x-tick labels\n",
        "plt.xticks(rotation=90)\n",
        "\n",
        "# Add a label to the y-axis\n",
        "plt.ylabel('Rooms', fontsize='14')\n",
        "\n",
        "# Display the plot\n",
        "plt.show()"
      ],
      "metadata": {
        "id": "mAQTIvtqp1cj"
      },
      "execution_count": null,
      "outputs": []
    },
    {
      "cell_type": "markdown",
      "source": [
        "##### 1. Why did you pick the specific chart?"
      ],
      "metadata": {
        "id": "X_VqEhTip1ck"
      }
    },
    {
      "cell_type": "markdown",
      "source": [
        "Answer Here."
      ],
      "metadata": {
        "id": "-vsMzt_np1ck"
      }
    },
    {
      "cell_type": "markdown",
      "source": [
        "##### 2. What is/are the insight(s) found from the chart?"
      ],
      "metadata": {
        "id": "8zGJKyg5p1ck"
      }
    },
    {
      "cell_type": "markdown",
      "source": [
        "* Manhattan has more listed properties with Entire home/apt around 27.0% of total listed properties followed by Brooklyn with around 19.6%.\n",
        "\n",
        "*   Private rooms are more in Brooklyn as in 20.7% of the total listed properties followed by Manhattan with 16.3% of them. While 6.9% of private rooms are from Queens.\n",
        "\n",
        "*   Very few of the total listed have shared rooms listed on Airbnb where there's negligible or almost very rare shared rooms in Staten Island and Bronx.\n",
        "\n",
        "*   We can infer that Brooklyn,Queens,Bronx has more private room types while Manhattan which has the highest no of listings in entire NYC has more Entire home/apt room types."
      ],
      "metadata": {
        "id": "ZYdMsrqVp1ck"
      }
    },
    {
      "cell_type": "markdown",
      "source": [
        "##### 3. Will the gained insights help creating a positive business impact?\n",
        "Are there any insights that lead to negative growth? Justify with specific reason."
      ],
      "metadata": {
        "id": "PVzmfK_Ep1ck"
      }
    },
    {
      "cell_type": "markdown",
      "source": [
        "Yes, the insights gained can help create a positive business impact by guiding targeted marketing and pricing strategies. For example, focusing on entire home/apt listings in Manhattan can attract high-paying guests, while promoting private rooms in Brooklyn or Queens may appeal to budget-conscious travelers. However, an overreliance on shared or private rooms in areas with lower demand—like Bronx or Staten Island—may lead to negative growth due to limited customer interest and lower occupancy rates. Hence, investing in the right room types and locations is crucial to optimize occupancy and maximize returns, avoiding stagnation in less-demanded segments."
      ],
      "metadata": {
        "id": "druuKYZpp1ck"
      }
    },
    {
      "cell_type": "markdown",
      "source": [
        "####Correlation Heatmap Visualization"
      ],
      "metadata": {
        "id": "NC_X3p0fY2L0"
      }
    },
    {
      "cell_type": "code",
      "source": [
        "# Calculate pairwise correlations between columns\n",
        "corr = airbnb_booking.corr(numeric_only=True)\n",
        "\n",
        "# Display the correlation between columns\n",
        "corr\n"
      ],
      "metadata": {
        "id": "xyC9zolEZNRQ"
      },
      "execution_count": null,
      "outputs": []
    },
    {
      "cell_type": "code",
      "source": [
        "# Set the figure size\n",
        "plt.figure(figsize=(12,6))\n",
        "\n",
        "# Visualize correlations as a heatmap\n",
        "sns.heatmap(corr, cmap='BrBG',annot=True)\n",
        "\n",
        "# Display heatmap\n",
        "plt.show()"
      ],
      "metadata": {
        "id": "WhF3sEsOrcnL"
      },
      "execution_count": null,
      "outputs": []
    },
    {
      "cell_type": "markdown",
      "source": [
        "\n",
        "\n",
        "```\n",
        "# This is formatted as code\n",
        "```\n",
        "\n",
        "##### 1. Why did you pick the specific chart?"
      ],
      "metadata": {
        "id": "UV0SzAkaZNRQ"
      }
    },
    {
      "cell_type": "markdown",
      "source": [
        "A correlation matrix is a table showing correlation coefficients between variables. Each cell in the table shows the correlation between two variables. A correlation matrix is used to summarize data, as an input into a more advanced analysis, and as a diagnostic for advanced analyses. The range of correlation is [-1,1]."
      ],
      "metadata": {
        "id": "DVPuT8LYZNRQ"
      }
    },
    {
      "cell_type": "markdown",
      "source": [
        "##### 2. What is/are the insight(s) found from the chart?"
      ],
      "metadata": {
        "id": "YPEH6qLeZNRQ"
      }
    },
    {
      "cell_type": "markdown",
      "source": [
        "*   There is a moderate positive correlation (0.59) between the host_id and id columns, which suggests that hosts with more listings are more likely to have unique host IDs.\n",
        "\n",
        "*   There is a weak positive correlation (0.057) between the price column and the calculated_host_listings_count column, which suggests that hosts with more listings tend to charge higher prices for their listings.\n",
        "\n",
        "*   There is a moderate positive correlation (0.23) between the calculated_host_listings_count column and the availability_365 column, which suggests that hosts with more listings tend to have more days of availability in the next 365 days.\n",
        "\n",
        "*   There is a strong positive correlation (0.59) between the number_of_reviews column and the reviews_per_month column, which suggests that listings with more total reviews tend to have more reviews per month."
      ],
      "metadata": {
        "id": "bfSqtnDqZNRR"
      }
    },
    {
      "cell_type": "markdown",
      "source": [
        "#### Chart - 15 - Pair Plot"
      ],
      "metadata": {
        "id": "q29F0dvdveiT"
      }
    },
    {
      "cell_type": "code",
      "source": [
        "# create a pairplot using the seaborn library to visualize the relationships between different variables in the Airbnb NYC dataset\n",
        "sns.pairplot(airbnb_booking)\n",
        "\n",
        "# show the plot\n",
        "plt.show()"
      ],
      "metadata": {
        "id": "o58-TEIhveiU"
      },
      "execution_count": null,
      "outputs": []
    },
    {
      "cell_type": "markdown",
      "source": [
        "##### 1. Why did you pick the specific chart?"
      ],
      "metadata": {
        "id": "EXh0U9oCveiU"
      }
    },
    {
      "cell_type": "markdown",
      "source": [
        "Pair plot is used to understand the best set of features to explain a relationship between two variables or to form the most separated clusters. It also helps to form some simple classification models by drawing some simple lines or make linear separation in our data-set."
      ],
      "metadata": {
        "id": "eMmPjTByveiU"
      }
    },
    {
      "cell_type": "markdown",
      "source": [
        "##### 2. What is/are the insight(s) found from the chart?"
      ],
      "metadata": {
        "id": "22aHeOlLveiV"
      }
    },
    {
      "cell_type": "markdown",
      "source": [
        "\n",
        "* The first two columns (id and host_id) show a strong positive correlation with each other. This is likely due to the way IDs are assigned but not necessarily meaningful in a real-world sense unless you're specifically analyzing user or host behavior.\n",
        "\n",
        "* These variables form a clustered pattern, likely representing geographic groupings (e.g., a city map). You can observe horizontal and vertical bands which suggest fixed coordinate boundaries (e.g., neighborhoods or boroughs).\n",
        "\n",
        "* The price variable has a long tail, indicating a few listings are priced extremely high. Most listings seem to be priced on the lower end (left side of the plot), and the scatter plots show vertical clustering due to these few high-priced outliers.\n",
        "\n",
        "* Most listings have a low minimum night requirement and low number of reviews, but some outliers exist with very high values, possibly skewing the data.\n",
        "\n",
        "* There appears to be a positive correlation between reviews_per_month and number_of_reviews, which is expected, as more overall reviews likely mean more activity per month.\n",
        "\n",
        "* Many listings have availability either near 0 or close to 365, suggesting two major types of listings: occasional (perhaps part-time hosts) and full-time rental properties.\n",
        "\n",
        "* Some plots show gaps or bands (e.g., in minimum_nights, price), which may indicate data entry limitations, default values, or rules applied during data collection."
      ],
      "metadata": {
        "id": "uPQ8RGwHveiV"
      }
    },
    {
      "cell_type": "markdown",
      "source": [
        "## **5. Solution to Business Objective**"
      ],
      "metadata": {
        "id": "JcMwzZxoAimU"
      }
    },
    {
      "cell_type": "markdown",
      "source": [
        "#### What do you suggest the client to achieve Business Objective ?\n",
        "Explain Briefly."
      ],
      "metadata": {
        "id": "8G2x9gOozGDZ"
      }
    },
    {
      "cell_type": "markdown",
      "source": [
        "*   Manhattan and Brooklyn have the highest demand for Airbnb rentals, as evidenced by the large number of listings in these neighborhoods. This could make them attractive areas for hosts to invest in property.\n",
        "\n",
        "*   Manhattan is world-famous for its parks, museums, buildings, town, liberty, gardens, markets, island and also its substantial number of tourists throughout the year ,it makes sense that demand and price both high.\n",
        "\n",
        "*   Brooklyn comes in second with significant number of listings and cheaper prices as compared to the Manhattan: With most listings located in Williamsburg and Bedford Stuyvesant two neighborhoods strategically close to Manhattan tourists get the chance to enjoy both boroughs equally while spending less.\n",
        "\n",
        "*   Williamsburg, Bedford-Stuyvesant, Harlem, Bushwick, and the Upper West Side are the top neighborhoods in terms of listing counts, indicating strong demand for Airbnb rentals in these areas.\n",
        "\n",
        "*   The average price of a listing in New York City is higher in the center of the city (Manhattan) compared to the outer boroughs. This could indicate that investing in property in Manhattan may be more lucrative for Airbnb rentals.\n",
        "But Manhattan and Brooklyn have the largest number of hosts, indicating a high level of competition in these boroughs.\n",
        "\n",
        "*   The data suggests that Airbnb rentals are primarily used for short-term stays, with relatively few listings requiring a minimum stay of 30 nights or more. Hosts may want to consider investing in property that can accommodate shorter stays in order to maximize their occupancy rate.\n",
        "\n",
        "*   The majority of listings on Airbnb are for entire homes or apartments and also Private Rooms with relatively fewer listings for shared rooms. This suggests that travelers using Airbnb have a wide range of accommodation options to choose from, and hosts may want to consider investing in property that can accommodate multiple guests.\n",
        "\n",
        "*   The data indicates that the availability of Airbnb rentals varies significantly across neighborhoods, with some neighborhoods having a high concentration of listings and others having relatively few.\n",
        "\n",
        "*   The data indicates that there is a high level of competition among Airbnb hosts, with a small number of hosts dominating a large portion of the market. Hosts may want to consider investing in property in areas with relatively fewer listings in order to differentiate themselves from the competition.\n",
        "\n",
        "*   The neighborhoods near the airport in Queens would have a higher average number of reviews, as they are likely to attract a lot of tourists or visitors who are passing through the area. The proximity to the airport could make these neighborhoods a convenient and appealing place to stay for travelers for short-term stay with spending less money because The price distribution is high in Manhattan and Brooklyn."
      ],
      "metadata": {
        "id": "pASKb0qOza21"
      }
    },
    {
      "cell_type": "markdown",
      "source": [
        "# **Conclusion**"
      ],
      "metadata": {
        "id": "gCX9965dhzqZ"
      }
    },
    {
      "cell_type": "markdown",
      "source": [
        "This EDA project on Airbnb bookings successfully highlights the importance of data-driven decision-making in the hospitality industry. The insights gained not only help Airbnb hosts better understand and optimize their listings but also allow the platform to improve user experience and strategic planning. Future work can incorporate predictive modeling to forecast pricing or booking likelihood, offering deeper value through machine learning applications."
      ],
      "metadata": {
        "id": "Fjb1IsQkh3yE"
      }
    },
    {
      "cell_type": "markdown",
      "source": [
        "### ***Hurrah! You have successfully completed your EDA Capstone Project !!!***"
      ],
      "metadata": {
        "id": "gIfDvo9L0UH2"
      }
    }
  ]
}